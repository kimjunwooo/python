{
  "nbformat": 4,
  "nbformat_minor": 0,
  "metadata": {
    "colab": {
      "provenance": [],
      "include_colab_link": true
    },
    "kernelspec": {
      "name": "python3",
      "display_name": "Python 3"
    },
    "language_info": {
      "name": "python"
    }
  },
  "cells": [
    {
      "cell_type": "markdown",
      "metadata": {
        "id": "view-in-github",
        "colab_type": "text"
      },
      "source": [
        "<a href=\"https://colab.research.google.com/github/kimjunwooo/python/blob/main/pandas%EA%B4%80%EB%A0%A8_%EC%88%99%EC%A0%9C_ipynb%EC%9D%98_%EC%82%AC%EB%B3%B8.ipynb\" target=\"_parent\"><img src=\"https://colab.research.google.com/assets/colab-badge.svg\" alt=\"Open In Colab\"/></a>"
      ]
    },
    {
      "cell_type": "markdown",
      "source": [
        "# 모두 실행해 보시고, 다음 물음에 답하시길 바랍니다."
      ],
      "metadata": {
        "id": "xVgmFf8u17Mg"
      }
    },
    {
      "cell_type": "markdown",
      "source": [
        "**[숙제 1]** os 모듈은 운영체제를 제어할 수 있다. os.chdir('/content/')은 content 디렉토리로 이동한다. os.listdir()은 현재 디렉터리에 어떤 파일들이 있는지를 알려준다. os.getcwd는 현재 작업 디렉터리를 알려준다."
      ],
      "metadata": {
        "id": "Jym5zfHtyyH0"
      }
    },
    {
      "cell_type": "code",
      "source": [
        "import os\n",
        "\n",
        "os.chdir('/content/')\n",
        "\n",
        "print(os.getcwd()) \n",
        "\n",
        "print(os.listdir()) \n",
        "\n",
        "os.chdir('/content/sample_data/')\n",
        "\n",
        "print(os.listdir()) \n"
      ],
      "metadata": {
        "id": "FfuaxG025SsF"
      },
      "execution_count": null,
      "outputs": []
    },
    {
      "cell_type": "markdown",
      "source": [
        "**[숙제 2]** 이 코드는 먼저 pandas 모듈를 pd로 import하고 targetUrl은 https://raw.githubusercontent.com/gundaminpde/2022/main/gapminder_sample.ts 주소에 있는 tsv 파일을 지칭한다. df2는 csv 파일을 읽어 오는데 이때 targetUrl을 읽어오며 이때 구분자는 tab이다."
      ],
      "metadata": {
        "id": "hTJ5QByyy8vP"
      }
    },
    {
      "cell_type": "code",
      "source": [
        "### 와~ pandas\n",
        "\n",
        "import pandas as pd\n",
        "\n",
        "\n",
        "targetUrl = \"https://raw.githubusercontent.com/gundaminpde/2022/main/gapminder_sample.tsv\"\n",
        "\n",
        "df2 = pd.read_csv(targetUrl, sep='\\t')\n"
      ],
      "metadata": {
        "id": "jwT3_cPO7uVk"
      },
      "execution_count": null,
      "outputs": []
    },
    {
      "cell_type": "markdown",
      "source": [
        "**[숙제 3]** df2 데이터에서 맨 처음부터 괄호 안 숫자까지 출력. 이때 아무것도 안 넣으면 5개만 출력"
      ],
      "metadata": {
        "id": "-XhkmFZky_-_"
      }
    },
    {
      "cell_type": "code",
      "source": [
        "print(df2.head( ))"
      ],
      "metadata": {
        "id": "0Wsf74zeumzj"
      },
      "execution_count": null,
      "outputs": []
    },
    {
      "cell_type": "markdown",
      "source": [],
      "metadata": {
        "id": "Y6AMJujYuuQT"
      }
    },
    {
      "cell_type": "markdown",
      "source": [
        "**[숙제 4]** df2 데이터의 타입의 종류가 무엇인지 알려줌"
      ],
      "metadata": {
        "id": "0NFSclpYzCax"
      }
    },
    {
      "cell_type": "code",
      "source": [
        "print(type(df2))"
      ],
      "metadata": {
        "id": "sb-7ICDmuu7O"
      },
      "execution_count": null,
      "outputs": []
    },
    {
      "cell_type": "markdown",
      "source": [
        "**[숙제 5]** df2 데이터의 배열의 크기기를 알려줌. 예를 들어 3행 2열 데이터 set이면 (3, 2) 출력"
      ],
      "metadata": {
        "id": "DTcv1pzbzEVI"
      }
    },
    {
      "cell_type": "code",
      "source": [
        "print(df2.shape)"
      ],
      "metadata": {
        "colab": {
          "base_uri": "https://localhost:8080/"
        },
        "id": "krXTJpk8uzJW",
        "outputId": "cc066f20-ca05-4ab0-b428-320a8ff24d4c"
      },
      "execution_count": null,
      "outputs": [
        {
          "output_type": "stream",
          "name": "stdout",
          "text": [
            "(1704, 6)\n"
          ]
        }
      ]
    },
    {
      "cell_type": "markdown",
      "source": [
        "**[숙제 6]** 데이터의 컬럼을 보여준다"
      ],
      "metadata": {
        "id": "wvEWjXEgzGT8"
      }
    },
    {
      "cell_type": "code",
      "source": [
        "print( df2.columns)\n"
      ],
      "metadata": {
        "id": "eInuiq4lu1Dt"
      },
      "execution_count": null,
      "outputs": []
    },
    {
      "cell_type": "markdown",
      "source": [
        "**[숙제7]** 데이터의 변경할 타입을 출력한다다"
      ],
      "metadata": {
        "id": "d3b03rMtzJZi"
      }
    },
    {
      "cell_type": "code",
      "source": [
        "print(df2.dtypes)\n"
      ],
      "metadata": {
        "id": "bKNgDqYwu2xS"
      },
      "execution_count": null,
      "outputs": []
    },
    {
      "cell_type": "markdown",
      "source": [
        "**[숙제8]** 데이터의 정보를 확인할 수 있다. 인덱스 정보, 메모리 사용량, column 이름, 결측값이 아닌 행의 개수, 타입 정보 등등"
      ],
      "metadata": {
        "id": "CfnaBnYPzLat"
      }
    },
    {
      "cell_type": "code",
      "source": [
        "print(df2.info())"
      ],
      "metadata": {
        "id": "XR5JICfFu4Y9"
      },
      "execution_count": null,
      "outputs": []
    },
    {
      "cell_type": "markdown",
      "source": [
        "**[숙제9]** df3 데이터의 첫행부터 5번째 행까지 내용 출력력"
      ],
      "metadata": {
        "id": "HHTxfxiSzNlb"
      }
    },
    {
      "cell_type": "code",
      "source": [
        "\n",
        "!git clone https://github.com/gundaminpde/chow.git\n",
        "\n",
        "df3 = pd.read_csv(\"./chow/ThoraricSurgery.csv\", sep=',') \n",
        "\n",
        "print(df3.head())\n",
        "\n",
        "\n"
      ],
      "metadata": {
        "id": "MuZ4ODY5rb2G"
      },
      "execution_count": null,
      "outputs": []
    },
    {
      "cell_type": "code",
      "source": [
        "## csv 화일의 기본 형태\n",
        "\n",
        "## [[1행 리스트],[2행 리스트 ],[3행 리스트] ... ] "
      ],
      "metadata": {
        "id": "CUbfsyif_OnX"
      },
      "execution_count": null,
      "outputs": []
    },
    {
      "cell_type": "code",
      "source": [
        "# 판다스 자료형 : 파이썬 자료형 : 설명\n",
        "#  object    : string    : 문자열\n",
        "#  int64     : int       : 정수\n",
        "#   float64  : float     : 소숫점 가진 숫자\n",
        "# datetime64 : datetime  : 파이썬 라이브러리 datetime 반환하는 자료형 (시계열할 때)\n"
      ],
      "metadata": {
        "id": "K1uapEkcf6FF"
      },
      "execution_count": null,
      "outputs": []
    },
    {
      "cell_type": "markdown",
      "source": [
        "**[숙제10]** df2 데이터의 첫행부터 5번째 행까지 내용 출력\n",
        "한 칸을 빈칸으로 띄우고 df2 데이터에서 country 칼럼의 데이터를 countary_df에 저장하고 그 데이터의 타입을 출력.\n",
        "countary_df의 첫행부터 5번째 행까지 내용 출력\n",
        "마찬가지로 countary_df의 마지막행부터 위로 5번째 행까지 출력력"
      ],
      "metadata": {
        "id": "tGhTsUDqzPZ5"
      }
    },
    {
      "cell_type": "code",
      "source": [
        "\n",
        "print(df2.head())\n",
        "\n",
        "print(\" \")\n",
        "\n",
        "countary_df=df2[\"country\"]\n",
        "\n",
        "print(type(countary_df)) \n",
        "\n",
        "print(countary_df.head())\n",
        "\n",
        "print(countary_df.tail())\n"
      ],
      "metadata": {
        "id": "FXSn4_JNh0On"
      },
      "execution_count": null,
      "outputs": []
    },
    {
      "cell_type": "markdown",
      "source": [
        "**[숙제11]** country, continent, year columns 데이터를 subset_df에 저장\n",
        "subset_df의 데이터 타입을 출력 \n",
        "subset_df의 head 출력 \n",
        "\n"
      ],
      "metadata": {
        "id": "sEOcwx_yzRxp"
      }
    },
    {
      "cell_type": "code",
      "source": [
        "\n",
        "subset_df=df2[[\"country\", 'continent', 'year']]\n",
        "\n",
        "print(type(subset_df)) \n",
        "\n",
        "print(subset_df.head())\n",
        "\n",
        "print(subset_df.tail())\n"
      ],
      "metadata": {
        "id": "vx3YfeBzjy-E"
      },
      "execution_count": null,
      "outputs": []
    },
    {
      "cell_type": "code",
      "source": [
        "\n",
        "print(df2.head())"
      ],
      "metadata": {
        "id": "9h0gsYqvICr7"
      },
      "execution_count": null,
      "outputs": []
    },
    {
      "cell_type": "markdown",
      "source": [
        "**[숙제12]** df2 데이터 첫 행을 출력:\n"
      ],
      "metadata": {
        "id": "2KDGnUZczV48"
      }
    },
    {
      "cell_type": "code",
      "source": [
        "print(df2.loc[0])    "
      ],
      "metadata": {
        "id": "vnLqJt7Lkwr4"
      },
      "execution_count": null,
      "outputs": []
    },
    {
      "cell_type": "markdown",
      "source": [
        "**[숙제13]** df2 데이터 첫 행을 출력:\n"
      ],
      "metadata": {
        "id": "CFXz_lawzbKs"
      }
    },
    {
      "cell_type": "code",
      "source": [
        "print(df2.iloc[0])"
      ],
      "metadata": {
        "id": "qBbvTS9aIzpT"
      },
      "execution_count": null,
      "outputs": []
    },
    {
      "cell_type": "markdown",
      "source": [
        "**[숙제14]** df2의 데이터 shape : (1704, 6)\n",
        "df2 데이터에서 마지막 인덱스 행을 출력\n"
      ],
      "metadata": {
        "id": "nNKNnqKdzh7u"
      }
    },
    {
      "cell_type": "code",
      "source": [
        "number_rows = df2.shape[0]\n",
        "\n",
        "print(df2.shape)\n",
        "\n",
        "last_row_index = number_rows - 1\n",
        "\n",
        "print(df2.loc[last_row_index])\n",
        "\n",
        "\n",
        "print(\" \")\n",
        "\n",
        "## 또 다른 방법, tail(n=1)\n",
        "\n",
        "print(\"또 다른 방법, tail(n=1)\")\n",
        "\n",
        "print(df2.tail(n=1))"
      ],
      "metadata": {
        "id": "theI1UaYMpaN"
      },
      "execution_count": null,
      "outputs": []
    },
    {
      "cell_type": "markdown",
      "source": [
        "**[숙제15]** \n",
        "0번, 20번 30번 인덱스의 행을 출력\n"
      ],
      "metadata": {
        "id": "JhWyMSKzzjqi"
      }
    },
    {
      "cell_type": "code",
      "source": [
        "print(df2.loc[[0,20,30]]) \n",
        "\n"
      ],
      "metadata": {
        "id": "uQ0eM6AfNf4Y"
      },
      "execution_count": null,
      "outputs": []
    },
    {
      "cell_type": "markdown",
      "source": [
        "**[숙제16]**\n",
        "0 ~ 4번 인덱스까지 인덱싱\n",
        "\n",
        "\n",
        "\n",
        "\n"
      ],
      "metadata": {
        "id": "2sp9sg5jzljL"
      }
    },
    {
      "cell_type": "code",
      "source": [
        "print(df2.loc[0:4])"
      ],
      "metadata": {
        "id": "VFLyF2gtwoVj"
      },
      "execution_count": null,
      "outputs": []
    },
    {
      "cell_type": "markdown",
      "source": [
        "**[숙제17]** iloc[-1]는 실행이 가능, loc[-1]는 실생이 불가능한 이유가 뭔가요?\n",
        "그 이유는 loc는 행이나 칼럼의 label을 기준으로 하고 iloc는 인덱스의 값을 기준으로 하기 때문입니다"
      ],
      "metadata": {
        "id": "pYPQO6v2znRc"
      }
    },
    {
      "cell_type": "code",
      "source": [
        "## iloc[-1]는 가능, loc[-1]는 불가능\n",
        "\n",
        "\n",
        "print(df2.iloc[-1])\n",
        "\n",
        "print(df2.loc[-1])"
      ],
      "metadata": {
        "id": "2ChPHgtOW1FG"
      },
      "execution_count": null,
      "outputs": []
    },
    {
      "cell_type": "markdown",
      "source": [
        "**[숙제18]** \n",
        "year, pop 칼럼을 기준으로 인덱싱 후 0부터 4번 인덱스 까지 추출\n",
        "밑에는 칼럼 인덱스 2번 4번 -1번 즉 year, pop gdpPercap 칼럼을 추출하고 0번부터 4번 인덱스 행까지 출력\n",
        "\n"
      ],
      "metadata": {
        "id": "CwYuzZ4lzwqj"
      }
    },
    {
      "cell_type": "code",
      "source": [
        "subset1 = df2.loc[:,['year' ,'pop']]\n",
        "\n",
        "print(subset1.head() )\n",
        "\n",
        "\n",
        "subset2 = df2.iloc[:,[2,4,-1]]\n",
        "\n",
        "print(subset2.head() )"
      ],
      "metadata": {
        "id": "IfE75fAGY_w-"
      },
      "execution_count": null,
      "outputs": []
    },
    {
      "cell_type": "markdown",
      "source": [
        "**[숙제19]** \n",
        "column 인덱스 0번 2번 4번 추출하고 0번부터 4번 행까지 추출\n",
        "\n"
      ],
      "metadata": {
        "id": "rHGOvnWKz7SU"
      }
    },
    {
      "cell_type": "code",
      "source": [
        "subset3 = df2.iloc[:,range(0,6,2)]\n",
        "\n",
        "print(subset3.head() )\n",
        "\n",
        "subset4 = df2.iloc[:, 0:6:2]\n",
        "\n",
        "print(subset4.head() )\n"
      ],
      "metadata": {
        "id": "U0V-OkztbTjd"
      },
      "execution_count": null,
      "outputs": []
    },
    {
      "cell_type": "markdown",
      "source": [
        "**[숙제20]** 행은 0, 99, 999번째 행 추출하고 칼럼은 0번 3번 5번 칼럼을 추출\n",
        "행은 10번부터 12번까지 country, lifeExp, gdpPercap 열 추출출"
      ],
      "metadata": {
        "id": "bmXPajiu0BPs"
      }
    },
    {
      "cell_type": "code",
      "source": [
        "print(df2.iloc[[0,99,999],[0,3,5]])  \n",
        "\n",
        "print(df2.loc[10:13,['country','lifeExp','gdpPercap']])"
      ],
      "metadata": {
        "id": "ANamAXiXEsfv"
      },
      "execution_count": null,
      "outputs": []
    },
    {
      "cell_type": "markdown",
      "source": [
        "**[숙제21]** \n",
        "df2 데이터 9번째 행까지 추출\n",
        "year 칼럼을 그룹으로 묶고 lifeExp 칼럼 값의 평균을 출력력"
      ],
      "metadata": {
        "id": "WDn6RW4H0CcP"
      }
    },
    {
      "cell_type": "code",
      "source": [
        "### groupby()\n",
        "\n",
        "print(df2.head(n=10))\n",
        "\n",
        "\n",
        "print(df2.groupby('year')['lifeExp'].mean())"
      ],
      "metadata": {
        "id": "uotyvwnRF8gC"
      },
      "execution_count": null,
      "outputs": []
    },
    {
      "cell_type": "markdown",
      "source": [
        "**[숙제22]** \n",
        "먼저 year 칼럼을 기준으로 groupby를 하면 1952, 1957년 .. 으로 그룹화가 되고\n",
        "too_long은 그룹화 된 데이터에서 lifeExp 칼럼만 보여준다.\n",
        "마지막으로 too_long.mean()은 lifeExp 칼럼 값의 평균을 보여준다다"
      ],
      "metadata": {
        "id": "MPKXEUvt0Fkz"
      }
    },
    {
      "cell_type": "code",
      "source": [
        "### 위의 코드를 풀어서 설명하면...\n",
        "\n",
        "df2_groupby_year = df2.groupby('year')\n",
        "print(df2_groupby_year)\n",
        "##print(df2_groupby_year.head())\n",
        "\n",
        "too_long = df2_groupby_year['lifeExp']\n",
        "\n",
        "too_long.mean()\n",
        "\n"
      ],
      "metadata": {
        "id": "3Jl_OS9lLT1K"
      },
      "execution_count": null,
      "outputs": []
    },
    {
      "cell_type": "markdown",
      "source": [
        "**[숙제23]** \n",
        "continent 칼럼을 기준으로 그룹화를 하고 country 칼럼 값들의 고유값을 출력력\n",
        "\n",
        "이것은 매우 중요합니다."
      ],
      "metadata": {
        "id": "nuIx4RVvw3pn"
      }
    },
    {
      "cell_type": "code",
      "source": [
        "print(df2.groupby('continent')['country'].nunique())"
      ],
      "metadata": {
        "id": "tJX-we2yM9q9"
      },
      "execution_count": null,
      "outputs": []
    },
    {
      "cell_type": "markdown",
      "source": [
        "**[숙제24]** year로 그룹화를 하고 lifeExp의 평균 값들을 출력한다\n",
        "그리고 그 값들을 선형 그래프로 나타낸다\n",
        "x 축은 year y축은 lifeExp의 평균 값을 나타낸다\n",
        "마지막에 or은 점 그래프를 나타낸다"
      ],
      "metadata": {
        "id": "23S7_LaD0Q9y"
      }
    },
    {
      "cell_type": "code",
      "source": [
        "### matplotlib inline <==jupyter notebook용 그래프그리기 __매직함수magic method__\n",
        "\n",
        "\n",
        "import matplotlib.pyplot as plt\n",
        "\n",
        "year_lifeExpectancy = df2.groupby('year')['lifeExp'].mean()\n",
        "\n",
        "print(year_lifeExpectancy)\n",
        "\n",
        "year_lifeExpectancy.plot()\n",
        "\n",
        "plt.show()\n",
        "\n",
        "plt.plot(year_lifeExpectancy,'or')"
      ],
      "metadata": {
        "id": "n69mE3DRNZqC"
      },
      "execution_count": null,
      "outputs": []
    },
    {
      "cell_type": "markdown",
      "source": [
        "**[숙제25]** \n",
        "'와', '어이', 123은 인덱스 0, 1, 2와 각각 연결된다\n",
        "'우와', '자동차', 123은 인덱스 '감탄사', '명사', '숫자'와 연결된다"
      ],
      "metadata": {
        "id": "GMmF9JPm0Tvw"
      }
    },
    {
      "cell_type": "code",
      "source": [
        "import pandas as pd\n",
        "\n",
        "A_series = pd.Series(['와','어이',123 ])\n",
        "\n",
        "print(A_series)\n",
        "\n",
        "print('')\n",
        "\n",
        "B_series = pd.Series(['우와','자동차',123 ], index = [\"감탄사\",\"명사\", '숫자'])\n",
        "\n",
        "print(B_series)"
      ],
      "metadata": {
        "id": "r-VoXa-Jn0bT"
      },
      "execution_count": null,
      "outputs": []
    },
    {
      "cell_type": "markdown",
      "source": [
        "**[숙제26]** \n",
        "0, 1, 2 인덱스에 정보가 주어지는데 칼럼은 이름, 키, 몸무게, 인기 이다\n",
        "인덱스와 칼럼에 맞게 자료가 입력된다\n",
        "ex)  \n",
        "     이름  키 몸무게  인기\n",
        "  0 뽀로로 1.2 가벼움 많음"
      ],
      "metadata": {
        "id": "fMdgWHOu0Vca"
      }
    },
    {
      "cell_type": "code",
      "source": [
        "\n",
        "A_D_frame = pd.DataFrame({ \n",
        "    '이름':['뽀로로', '포비', '에디' ],\n",
        "    '키(m)':[1.2 , 2.1, 1.4],\n",
        "    '몸무게': ['가벼움', '무거움', '보통'],\n",
        "    '인기': ['많음', '보통', '보통']}\n",
        ")\n",
        "\n",
        "print(A_D_frame)\n"
      ],
      "metadata": {
        "id": "YeTPCJJJpPGs"
      },
      "execution_count": null,
      "outputs": []
    },
    {
      "cell_type": "markdown",
      "source": [
        "**[숙제27]** \n",
        "위에 코드와는 다르게 이번 코드에서는 인덱스를 자동부여가 아닌 뽀로로, 포비, 에디로 따로 지정했고 칼럼도 따로 지정해줬다.\n",
        "따라서 위에서는 인덱스가 0, 1, 2로 부여된 반면 이번 데이터에서는 따로 작성한 인덱스로 dataframe이 만들어진다."
      ],
      "metadata": {
        "id": "3S8kV1w80YUG"
      }
    },
    {
      "cell_type": "code",
      "source": [
        "\n",
        "\n",
        "B_D_frame = pd.DataFrame(\n",
        "    data={ '키(m)':[1.2 , 2.1, 1.4],\n",
        "          '몸무게': ['가벼움', '무거움', '보통'],\n",
        "          '인기': ['많음', '보통', '보통']},\n",
        "    index= ['뽀로로', '포비', '에디'],\n",
        "    columns=[\"키(m)\",\"몸무게\",\"인기\"]\n",
        ")\n",
        "\n",
        "print(B_D_frame)\n"
      ],
      "metadata": {
        "id": "Tt1FZQiIrDvo"
      },
      "execution_count": null,
      "outputs": []
    },
    {
      "cell_type": "markdown",
      "source": [
        "**[숙제28]** \n",
        "먼저 collections 모듈에는 순서를 가진 사전형 데이터를 사용할 수 있도록 ordereddict가 있는데 이 모듈을 이용해 데이터프레임을 만든 모습이다.\n",
        "따라서 이를 실행했을때 인덱스는 0,1,2 칼럼은 이름,키,몸무게,인기로 나타나며 이에 맞게 자료가 입력된다"
      ],
      "metadata": {
        "id": "xSBjuGDL0a7X"
      }
    },
    {
      "cell_type": "code",
      "source": [
        "\n",
        "\n",
        "from collections import OrderedDict\n",
        "\n",
        "C_D_frame = pd.DataFrame(OrderedDict([\n",
        "    ('이름',['뽀로로', '포비', '에디' ]),\n",
        "    ('키(m)',[1.2 , 2.1, 1.4]),\n",
        "    ('몸무게', ['가벼움', '무거움', '보통']),\n",
        "    ('인기', ['많음', '보통', '보통'])\n",
        "])\n",
        ")\n",
        "\n",
        "print(C_D_frame)"
      ],
      "metadata": {
        "id": "kwgBvdrosFMk"
      },
      "execution_count": null,
      "outputs": []
    },
    {
      "cell_type": "markdown",
      "source": [
        "**[숙제29]** \n",
        "만들어낸 dataframe에서 첫번째 행인 뽀로로 인덱스의 행을 추출한다다"
      ],
      "metadata": {
        "id": "HZa28ire0dLQ"
      }
    },
    {
      "cell_type": "code",
      "source": [
        "D_D_frame = pd.DataFrame(\n",
        "    data={ '키(m)':[1.2 , 2.1, 1.4],\n",
        "          '몸무게': ['가벼움', '무거움', '보통'],\n",
        "          '인기': ['많음', '보통', '보통']},\n",
        "    index= ['뽀로로', '포비', '에디'],\n",
        "    columns=[\"키(m)\",\"몸무게\",\"인기\"]\n",
        ")\n",
        "\n",
        "first_row = D_D_frame.loc['뽀로로']\n",
        "\n",
        "print(first_row)"
      ],
      "metadata": {
        "id": "yXZREp1ii5lE"
      },
      "execution_count": null,
      "outputs": []
    },
    {
      "cell_type": "markdown",
      "source": [
        "**[숙제30]** \n",
        "first_row의 칼럼 값들이 나온다 [키, 몸무게, 인기]"
      ],
      "metadata": {
        "id": "ZU1Vc4xO0gH3"
      }
    },
    {
      "cell_type": "code",
      "source": [
        "\n",
        "\n",
        "print(first_row.index)"
      ],
      "metadata": {
        "id": "5O3VN-F9m4tm"
      },
      "execution_count": null,
      "outputs": []
    },
    {
      "cell_type": "markdown",
      "source": [
        "**[숙제31]** \n",
        "frist_row의 value 값들이 나온다 [1.2, 가벼움, 많음]"
      ],
      "metadata": {
        "id": "inzM6TGl0jJ2"
      }
    },
    {
      "cell_type": "code",
      "source": [
        "print(first_row.values)\n",
        "\n"
      ],
      "metadata": {
        "id": "M2rZVb-lxTl2"
      },
      "execution_count": null,
      "outputs": []
    },
    {
      "cell_type": "markdown",
      "source": [
        "**[숙제32]** \n",
        "first_row의 키의 목록을 반환한다다 [키, 몸무게, 인기]"
      ],
      "metadata": {
        "id": "vZEkxUoX0k7Y"
      }
    },
    {
      "cell_type": "code",
      "source": [
        "print(first_row.keys())\n",
        "\n"
      ],
      "metadata": {
        "id": "rJNowyQWxVoA"
      },
      "execution_count": null,
      "outputs": []
    },
    {
      "cell_type": "markdown",
      "source": [
        "**[숙제33]** \n",
        "키\n",
        "몸무게\n",
        "가벼움움"
      ],
      "metadata": {
        "id": "qLMaWsq90nCU"
      }
    },
    {
      "cell_type": "code",
      "source": [
        "print(first_row.index[0])\n",
        "\n",
        "print(first_row.keys()[1])\n",
        "\n",
        "print(first_row.values[1])"
      ],
      "metadata": {
        "id": "UWHNoCvDxdP5"
      },
      "execution_count": null,
      "outputs": []
    },
    {
      "cell_type": "markdown",
      "source": [
        "**[숙제34]** \n",
        "뽀로로 1.2 #데이터에서 키값들만 추출한 모습습\n",
        "포비 2.1\n",
        "에디 1.4\n",
        "2.1 # 키 값들에서 가장 큰값\n",
        "1.2 # 최소값 \n",
        "1.566 # 평균\n",
        "0.4725 # 분산산"
      ],
      "metadata": {
        "id": "g8-ju8LT0oCb"
      }
    },
    {
      "cell_type": "code",
      "source": [
        "height=D_D_frame['키(m)']\n",
        "\n",
        "print(height)\n",
        "\n",
        "print(height.max())\n",
        "\n",
        "print(height.min())\n",
        "\n",
        "print(height.mean())\n",
        "\n",
        "print(height.std())  # standard deviation = std"
      ],
      "metadata": {
        "id": "gG1cZ4FEoADG"
      },
      "execution_count": null,
      "outputs": []
    },
    {
      "cell_type": "markdown",
      "source": [
        "**[숙제35]** \n",
        "csv 파일을 위에서부터 10행까지 불러오기기"
      ],
      "metadata": {
        "id": "fPtTFvWP0qOc"
      }
    },
    {
      "cell_type": "code",
      "source": [
        "import pandas as pd\n",
        "\n",
        "targetUrl_sci= \"https://raw.githubusercontent.com/gundaminpde/2022/main/scientists.csv\"\n",
        "\n",
        "scientists = pd.read_csv(targetUrl_sci)\n",
        "\n",
        "scientists.head(n=10)\n"
      ],
      "metadata": {
        "id": "gnbJBvBTtZvg"
      },
      "execution_count": null,
      "outputs": []
    },
    {
      "cell_type": "markdown",
      "source": [
        "**[숙제36]** \n",
        "90\n",
        "59.125\n",
        "age 칼럼 값들을 추출하고 그 값에서의 최대, 평균 "
      ],
      "metadata": {
        "id": "FZpp0GOX0rtq"
      }
    },
    {
      "cell_type": "code",
      "source": [
        "ages = scientists['Age']\n",
        "\n",
        "print(ages.max())\n",
        "print(ages.mean())\n",
        "\n"
      ],
      "metadata": {
        "id": "4jA4EnjNwmor"
      },
      "execution_count": null,
      "outputs": []
    },
    {
      "cell_type": "markdown",
      "source": [
        "**[숙제37]** \n",
        "위 코드는 age칼럼의 value 중에서 age칼럼 평균보다 큰 값들을 추출하고\n",
        "밑에 코드는 age 칼럼에 데이터를 위에서부터 내려오면서 평균보다 큰 값은 True를 작은 값은 False를 출력한다다\n",
        "\n",
        "아주 중요해요."
      ],
      "metadata": {
        "id": "F_l7vPwz0tRz"
      }
    },
    {
      "cell_type": "code",
      "source": [
        "print(ages[ages > ages.mean()])\n",
        "\n",
        "print(ages > ages.mean())"
      ],
      "metadata": {
        "id": "-XwpKfZ9xlwz"
      },
      "execution_count": null,
      "outputs": []
    },
    {
      "cell_type": "markdown",
      "source": [
        "**[숙제38]** \n",
        "age 평균 값보다 큰 값들을 가진 row를 출력\n",
        "\n",
        "\n",
        "아주 중요해요."
      ],
      "metadata": {
        "id": "pd0v-N110vRr"
      }
    },
    {
      "cell_type": "code",
      "source": [
        "print(scientists[ scientists['Age'] > scientists['Age'].mean() ]) ## 불린 추출"
      ],
      "metadata": {
        "id": "iBhbzCOXzH_F"
      },
      "execution_count": null,
      "outputs": []
    },
    {
      "cell_type": "markdown",
      "source": [
        "**[39]** \n",
        "age 칼럼에 있는 값들을 출력\n",
        "born, died 칼럼에 있는 값들의 type 출력력"
      ],
      "metadata": {
        "id": "NG1QcpBO036Z"
      }
    },
    {
      "cell_type": "code",
      "source": [
        "print(scientists['Age'])\n",
        "\n",
        "print(scientists['Born'].dtype) \n",
        "\n",
        "print(scientists['Died'].dtype)"
      ],
      "metadata": {
        "id": "4C1GttV7E0wI"
      },
      "execution_count": null,
      "outputs": []
    },
    {
      "cell_type": "markdown",
      "source": [
        "**[숙제40]** \n",
        "scientists 데이터에서 born 칼럼에 있는 데이터를 format에 맞게 출력\n",
        "밑에 코드는 strftime을 이용해서 날짜 데이터 포멧을 변경경\n",
        "\n",
        "날짜에 관한 것입니다. 유의하세요."
      ],
      "metadata": {
        "id": "ZC-KZEsZ0_L_"
      }
    },
    {
      "cell_type": "code",
      "source": [
        "\n",
        "\n",
        "born_datetime = pd.to_datetime(scientists['Born'],format='%Y-%m-%d')\n",
        "\n",
        "print(born_datetime)\n",
        "\n",
        "changed_one=born_datetime.dt.strftime('%m/%d/%Y')\n",
        "\n",
        "print(changed_one)\n",
        "\n"
      ],
      "metadata": {
        "id": "mYtDG30VGIo3"
      },
      "execution_count": null,
      "outputs": []
    },
    {
      "cell_type": "markdown",
      "source": [
        "**[숙제41]**\n",
        "위에서 만든 born_datetime과 여기서 만든 died_datetime을 scientists 데이터에 각각 Born_dt, Died_dt 칼럼으로 추가가"
      ],
      "metadata": {
        "id": "1O_GYKHh1EuJ"
      }
    },
    {
      "cell_type": "code",
      "source": [
        "\n",
        "died_datatime = pd.to_datetime(scientists['Died'],format='%Y-%m-%d')\n",
        "\n",
        "print(died_datatime)\n",
        "\n",
        "scientists['Born_dt'], scientists['Died_dt'] = (born_datetime, died_datatime)\n",
        "\n",
        "\n",
        "print(scientists.head())\n",
        "\n"
      ],
      "metadata": {
        "id": "LXTrLNcH0hKk"
      },
      "execution_count": null,
      "outputs": []
    },
    {
      "cell_type": "markdown",
      "source": [
        "**[숙제42]** \n",
        "life_days 칼럼을 추가하는데 이 칼럼의 값은 died_dt에서 born_dt를 뺀 값을 추가가"
      ],
      "metadata": {
        "id": "qgEz_JwR1Gqz"
      }
    },
    {
      "cell_type": "code",
      "source": [
        "scientists['life_days'] =  scientists['Died_dt'] - scientists['Born_dt']\n",
        "\n",
        "print(scientists)"
      ],
      "metadata": {
        "id": "brJk0PdKHNVp"
      },
      "execution_count": null,
      "outputs": []
    },
    {
      "cell_type": "markdown",
      "source": [
        "**[숙제43]** \n",
        "scientists 데이터를 셔플하고 이 데이터를 슬라이싱함함"
      ],
      "metadata": {
        "id": "LzLp9zbb1Hde"
      }
    },
    {
      "cell_type": "code",
      "source": [
        "print(scientists['Age'])\n",
        "\n",
        "import random\n",
        "\n",
        "random.seed(2)\n",
        "\n",
        "random.shuffle(scientists['Age'])\n",
        "\n",
        "print(scientists['Age'])\n",
        "\n",
        "print(scientists.iloc[:,0:4])\n"
      ],
      "metadata": {
        "id": "IPc_d5tfH4rL"
      },
      "execution_count": null,
      "outputs": []
    },
    {
      "cell_type": "markdown",
      "source": [
        "**[숙제44]** \n",
        "0       Rosaline Franklin\n",
        "1          William Gosset\n",
        "2    Florence Nightingale\n",
        "3             Marie Curie\n",
        "4           Rachel Carson\n",
        "5               John Snow\n",
        "6             Alan Turing\n",
        "7            Johann Gauss\n",
        "Name: Name, dtype: object"
      ],
      "metadata": {
        "id": "8mbswdv-1k4B"
      }
    },
    {
      "cell_type": "code",
      "source": [
        "## 피클로 만들어 저장하고 꺼내오기.\n",
        "\n",
        "import os\n",
        "\n",
        "print(os.getcwd())\n",
        "\n",
        "os.chdir('/content/')\n",
        "\n",
        "names = scientists['Name']\n",
        "\n",
        "names.to_pickle('../content/scientists_names.pickle')\n",
        "\n",
        "return_names = pd.read_pickle('../content//scientists_names.pickle')\n",
        "\n",
        "print(return_names)"
      ],
      "metadata": {
        "id": "ZNEu9PUNIngb"
      },
      "execution_count": null,
      "outputs": []
    },
    {
      "cell_type": "markdown",
      "source": [
        "**[숙제45]** \n",
        "df_cat_A는 데이터 3개를 합치는데 row방향으로 합치고\n",
        "df_cat_B는 칼럼 방향으로 합침침\n",
        "\n",
        "매우 중요해요."
      ],
      "metadata": {
        "id": "3wx8dQoUJuDt"
      }
    },
    {
      "cell_type": "code",
      "source": [
        "# Creating data frames\n",
        "df_King = pd.DataFrame({'A': ['A0', 'A1', 'A2', 'A3'],\n",
        "                        'B': ['B0', 'B1', 'B2', 'B3'],\n",
        "                        'C': ['C0', 'C1', 'C2', 'C3'],\n",
        "                        'D': ['D0', 'D1', 'D2', 'D3']},\n",
        "                        index=[0, 1, 2, 3])\n",
        "\n",
        "df_Whang = pd.DataFrame({'A': ['A4', 'A5', 'A6', 'A7'],\n",
        "                        'B': ['B4', 'B5', 'B6', 'B7'],\n",
        "                        'C': ['C4', 'C5', 'C6', 'C7'],\n",
        "                        'D': ['D4', 'D5', 'D6', 'D7']},\n",
        "                         index=[0, 1, 2, 3])\n",
        "\n",
        "df_ZZnag = pd.DataFrame({'A': ['A8', 'A9', 'A10', 'A11'],\n",
        "                        'B': ['B8', 'B9', 'B10', 'B11'],\n",
        "                        'C': ['C8', 'C9', 'C10', 'C11'],\n",
        "                        'D': ['D8', 'D9', 'D10', 'D11']},\n",
        "                        index=[0, 1, 2, 3])\n",
        "\n",
        "print(\"\\nThe DataFrame number 1\\n\",'-'*30, sep='')\n",
        "print(df_King)\n",
        "print(\"\\nThe DataFrame number 2\\n\",'-'*30, sep='')\n",
        "print(df_Whang)\n",
        "print(\"\\nThe DataFrame number 3\\n\",'-'*30, sep='')\n",
        "print(df_ZZnag)\n",
        "\n",
        "### 아래가 하고 싶은 것\n",
        "\n",
        "df_cat_A = pd.concat([df_King,df_Whang,df_ZZnag], axis=0)\n",
        "print(\"\\nAfter concatenation along row\\n\",'-'*30, sep='')\n",
        "print(df_cat_A)\n",
        "\n",
        "df_cat_B = pd.concat([df_King,df_Whang,df_ZZnag], axis=1)\n",
        "print(\"\\nAfter concatenation along column\\n\",'-'*60, sep='')\n",
        "print(df_cat_B)\n"
      ],
      "metadata": {
        "id": "TimXdU3rIQ9O"
      },
      "execution_count": null,
      "outputs": []
    },
    {
      "cell_type": "markdown",
      "source": [
        "**[숙제46]** \n",
        "irisData의 첫행부터 5번째 까지 그리고 마지막 행부터 위로 5번째 까지 자료 출력력"
      ],
      "metadata": {
        "id": "b1Vd9H3f1sH2"
      }
    },
    {
      "cell_type": "code",
      "source": [
        "import seaborn as sns\n",
        "\n",
        "targetUrl_iris=\"https://raw.githubusercontent.com/gundaminpde/2022/main/iris.csv\"\n",
        "\n",
        "irisData = pd.read_csv(targetUrl_iris)\n",
        "\n",
        "print(irisData.shape)\n",
        "\n",
        "print(irisData.head())\n",
        "\n",
        "irisData.tail()"
      ],
      "metadata": {
        "id": "iop1fh39My9q"
      },
      "execution_count": null,
      "outputs": []
    },
    {
      "cell_type": "markdown",
      "source": [
        "**[숙제47]** \n",
        "species가 seosa, versicolor, virginica로 3가지 종류가 있는데 이들의 산점도를 나타낸다다"
      ],
      "metadata": {
        "id": "q49qumhk1uCa"
      }
    },
    {
      "cell_type": "code",
      "source": [
        "sns.set_theme()\n",
        "sns.set(rc={\"figure.dpi\":300}) #이미지 품질 설정\n",
        "sns.set(rc={\"figure.figsize\":(6,3)}) ## 크기설정\n",
        "\n",
        "\n",
        "## Scatter plot 산점도\n",
        "\n",
        "sns.scatterplot(x=\"Sepal_Length\", y =\"Sepal_Width\", data=irisData, hue ='Species')"
      ],
      "metadata": {
        "id": "BAK30n_8X8ak"
      },
      "execution_count": null,
      "outputs": []
    },
    {
      "cell_type": "markdown",
      "source": [
        "**[숙제48]** \n",
        "irisData의 petal_length를 히스토그램으로 출력\n",
        "이때 petal_length는 y축에 위치"
      ],
      "metadata": {
        "id": "z--Uolco1vwF"
      }
    },
    {
      "cell_type": "code",
      "source": [
        "## 히스토그램 histogram\n",
        "\n",
        "sns.histplot( y= \"Petal_Length\", data = irisData)\n"
      ],
      "metadata": {
        "id": "FxivfMEoaekB"
      },
      "execution_count": null,
      "outputs": []
    },
    {
      "cell_type": "markdown",
      "source": [
        "**[숙제49]** \n",
        "irisData의 petal_length를 히스토그램으로 출력\n",
        "이때 petal_length는 x축에 위치"
      ],
      "metadata": {
        "id": "ZfxxbyF01xDr"
      }
    },
    {
      "cell_type": "code",
      "source": [
        "sns.histplot( x= \"Petal_Length\", data = irisData)"
      ],
      "metadata": {
        "id": "VxyIcQ0dbORD"
      },
      "execution_count": null,
      "outputs": []
    },
    {
      "cell_type": "markdown",
      "source": [
        "**[숙제50]** \n",
        "히스토그램을 만들고 그 위에 kdeplot을 확인할 수 있다다"
      ],
      "metadata": {
        "id": "6hL7B1HA1yo3"
      }
    },
    {
      "cell_type": "code",
      "source": [
        "sns.histplot( x= \"Petal_Length\", data = irisData, kde = \"True\")"
      ],
      "metadata": {
        "id": "6FCUgFE4bpB9"
      },
      "execution_count": null,
      "outputs": []
    },
    {
      "cell_type": "markdown",
      "source": [
        "**[숙제51]** \n",
        "3종의 데이터를 하나의 히스토그램으로 파악할 수 있다다\n"
      ],
      "metadata": {
        "id": "3TgGyvW111YB"
      }
    },
    {
      "cell_type": "code",
      "source": [
        "sns.histplot( x= \"Petal_Length\", data = irisData, hue = \"Species\")"
      ],
      "metadata": {
        "id": "yCyw1lmYbzFT"
      },
      "execution_count": null,
      "outputs": []
    },
    {
      "cell_type": "markdown",
      "source": [
        "**[숙제52]** \n",
        "x축은 species y축은 petal_width인 boxplot을 보여준다다"
      ],
      "metadata": {
        "id": "bynenrwQ13Qp"
      }
    },
    {
      "cell_type": "code",
      "source": [
        "## Barplot : 숫자 변수의 경향 추청치를 보여준다.\n",
        "\n",
        "sns.barplot(x=\"Species\", y=\"Petal_Width\", data =irisData)\n",
        "\n"
      ],
      "metadata": {
        "id": "GzPTo_z4cHSG"
      },
      "execution_count": null,
      "outputs": []
    },
    {
      "cell_type": "markdown",
      "source": [
        "**[숙제53]** \n",
        "x축은 species y축은 sepal_length인 boxplot을 보여준다다"
      ],
      "metadata": {
        "id": "nHXli0CL14SP"
      }
    },
    {
      "cell_type": "code",
      "source": [
        "## Box plot\n",
        "\n",
        "sns.boxplot(x=\"Species\", y=\"Sepal_Length\", data=irisData)"
      ],
      "metadata": {
        "id": "ErjPh8qddkCN"
      },
      "execution_count": null,
      "outputs": []
    },
    {
      "cell_type": "code",
      "source": [
        " ## sns.boxplot(x=\"Species\", y=\"Sepal_Length\", data=irisData, hue=\"group\") data에 group이 없다."
      ],
      "metadata": {
        "id": "iuphvhnceFnn"
      },
      "execution_count": null,
      "outputs": []
    }
  ]
}