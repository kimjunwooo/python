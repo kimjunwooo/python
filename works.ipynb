{
  "nbformat": 4,
  "nbformat_minor": 0,
  "metadata": {
    "colab": {
      "provenance": [],
      "authorship_tag": "ABX9TyOYRZRaDc3SQ4cj60tolKFn",
      "include_colab_link": true
    },
    "kernelspec": {
      "name": "python3",
      "display_name": "Python 3"
    },
    "language_info": {
      "name": "python"
    }
  },
  "cells": [
    {
      "cell_type": "markdown",
      "metadata": {
        "id": "view-in-github",
        "colab_type": "text"
      },
      "source": [
        "<a href=\"https://colab.research.google.com/github/kimjunwooo/python/blob/main/works.ipynb\" target=\"_parent\"><img src=\"https://colab.research.google.com/assets/colab-badge.svg\" alt=\"Open In Colab\"/></a>"
      ]
    },
    {
      "cell_type": "code",
      "execution_count": 2,
      "metadata": {
        "colab": {
          "base_uri": "https://localhost:8080/"
        },
        "id": "Kth2wN4LeJXl",
        "outputId": "81dafb53-27c7-46bb-906c-137c36c508c4"
      },
      "outputs": [
        {
          "output_type": "stream",
          "name": "stdout",
          "text": [
            "나는 본인 김준우이다.\n"
          ]
        }
      ],
      "source": [
        "print('나는 본인 김준우이다.')"
      ]
    },
    {
      "cell_type": "code",
      "source": [
        "print('나는 본인 {}이다.'.format('김준우'))"
      ],
      "metadata": {
        "colab": {
          "base_uri": "https://localhost:8080/"
        },
        "id": "qaFxDiQmemup",
        "outputId": "e2df84c5-3d82-466a-b6b8-be4fde6a79ee"
      },
      "execution_count": 3,
      "outputs": [
        {
          "output_type": "stream",
          "name": "stdout",
          "text": [
            "나는 본인 김준우이다.\n"
          ]
        }
      ]
    }
  ]
}